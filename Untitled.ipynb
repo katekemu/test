{
 "cells": [
  {
   "cell_type": "code",
   "execution_count": 17,
   "metadata": {},
   "outputs": [
    {
     "name": "stdout",
     "output_type": "stream",
     "text": [
      "[23, 6, 11, 21, 2]\n",
      "[3, 16, 17, 1, 8]\n",
      "[22, 18, 15, 9, 19]\n",
      "[5, 10, 20, 14]\n",
      "[7, 4, 12, 13]\n"
     ]
    }
   ],
   "source": [
    "import random\n",
    "seq = []\n",
    "num = 23\n",
    "random.seed(960125)\n",
    "while len(seq) < num:\n",
    "    cur = random.randint(1,num)\n",
    "    if cur not in seq:\n",
    "        seq.append(cur)\n",
    "print(seq[0:5])\n",
    "print(seq[5:10])\n",
    "print(seq[10:15])\n",
    "print(seq[15:19])\n",
    "print(seq[19:23])"
   ]
  }
 ],
 "metadata": {
  "kernelspec": {
   "display_name": "Python 3",
   "language": "python",
   "name": "python3"
  },
  "language_info": {
   "codemirror_mode": {
    "name": "ipython",
    "version": 3
   },
   "file_extension": ".py",
   "mimetype": "text/x-python",
   "name": "python",
   "nbconvert_exporter": "python",
   "pygments_lexer": "ipython3",
   "version": "3.7.2"
  }
 },
 "nbformat": 4,
 "nbformat_minor": 2
}
